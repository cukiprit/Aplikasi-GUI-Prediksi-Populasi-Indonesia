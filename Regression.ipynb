{
 "cells": [
  {
   "cell_type": "code",
   "execution_count": 1,
   "id": "a2d027f6",
   "metadata": {},
   "outputs": [],
   "source": [
    "import pandas as pd\n",
    "import numpy as np\n",
    "import matplotlib.pyplot as plt\n",
    "import sklearn"
   ]
  },
  {
   "cell_type": "code",
   "execution_count": 10,
   "id": "15cf810d",
   "metadata": {},
   "outputs": [
    {
     "data": {
      "text/plain": [
       "array([ 87.75,  90.1 ,  92.52,  95.02,  97.6 , 100.3 , 103.  , 105.9 ,\n",
       "       108.8 , 111.8 , 114.8 , 117.9 , 121.  , 124.2 , 127.4 , 130.7 ,\n",
       "       134.  , 137.3 , 140.6 , 144.  , 147.4 , 150.9 , 154.5 , 158.  ,\n",
       "       161.5 , 165.  , 168.4 , 171.7 , 175.  , 178.2 , 181.4 , 184.6 ,\n",
       "       187.7 , 190.9 , 193.9 , 196.9 , 199.9 , 202.8 , 205.7 , 208.6 ,\n",
       "       211.5 , 214.4 , 217.4 , 220.3 , 223.3 , 226.3 , 229.3 , 232.4 ,\n",
       "       235.5 , 238.6 , 241.8 , 245.1 , 248.5 , 251.8 , 255.1 , 258.4 ,\n",
       "       261.6 , 264.7 , 267.7 , 270.6 , 273.5 ])"
      ]
     },
     "execution_count": 10,
     "metadata": {},
     "output_type": "execute_result"
    }
   ],
   "source": [
    "# Memanggil dataset\n",
    "dataset = pd.read_csv('./populasi.csv')\n",
    "X = dataset.iloc[:,:1]\n",
    "Y = dataset.iloc[:,1].values\n",
    "my_data = pd.DataFrame(dataset)\n",
    "\n",
    "# Memanggil dataset yang akan diprediksi\n",
    "data_test = pd.read_csv('./prediksipopulasi.csv')\n",
    "test_X = data_test.iloc[:,:1]\n",
    "Y"
   ]
  },
  {
   "cell_type": "code",
   "execution_count": 22,
   "id": "ece17b4e",
   "metadata": {},
   "outputs": [
    {
     "name": "stdout",
     "output_type": "stream",
     "text": [
      "    Tahun\n",
      "26   1986\n",
      "35   1995\n",
      "60   2020\n",
      "28   1988\n",
      "11   1971\n",
      "2    1962\n",
      "34   1994\n",
      "59   2019\n",
      "40   2000\n",
      "22   1982\n",
      "4    1964\n",
      "10   1970\n",
      "30   1990\n",
      "41   2001\n",
      "33   1993\n",
      "43   2003\n",
      "49   2009\n",
      "7    1967\n",
      "14   1974\n",
      "   tahun\n",
      "0   2021\n",
      "1   2022\n",
      "2   2023\n",
      "3   2024\n",
      "4   2025\n",
      "5   2026\n",
      "6   2027\n",
      "7   2028\n",
      "8   2029\n",
      "9   2030\n"
     ]
    }
   ],
   "source": [
    "# Membagi data yang nantinya akan diujikan\n",
    "from sklearn.model_selection import train_test_split\n",
    "X_train, X_test, Y_train, Y_test = train_test_split(X, Y, test_size=0.3, random_state=0)\n",
    "print(X_test)\n",
    "print(test_X)"
   ]
  },
  {
   "cell_type": "code",
   "execution_count": 23,
   "id": "58e1d79b",
   "metadata": {},
   "outputs": [
    {
     "name": "stdout",
     "output_type": "stream",
     "text": [
      "[277.278 280.431 283.584 286.738 289.891 293.044 296.198 299.351 302.504\n",
      " 305.657]\n"
     ]
    }
   ],
   "source": [
    "# Fitting pada data training\n",
    "from sklearn.linear_model import LinearRegression\n",
    "regressor = LinearRegression()\n",
    "regressor.fit(X_train, Y_train)\n",
    "\n",
    "# Memprediksi hasil dengan data test\n",
    "Y_pred = regressor.predict(test_X)\n",
    "Y_pred = np.round(Y_pred, 3)\n",
    "print(Y_pred)"
   ]
  },
  {
   "cell_type": "code",
   "execution_count": 24,
   "id": "8edb2825",
   "metadata": {},
   "outputs": [
    {
     "data": {
      "text/html": [
       "<div>\n",
       "<style scoped>\n",
       "    .dataframe tbody tr th:only-of-type {\n",
       "        vertical-align: middle;\n",
       "    }\n",
       "\n",
       "    .dataframe tbody tr th {\n",
       "        vertical-align: top;\n",
       "    }\n",
       "\n",
       "    .dataframe thead th {\n",
       "        text-align: right;\n",
       "    }\n",
       "</style>\n",
       "<table border=\"1\" class=\"dataframe\">\n",
       "  <thead>\n",
       "    <tr style=\"text-align: right;\">\n",
       "      <th></th>\n",
       "      <th>0</th>\n",
       "      <th>0</th>\n",
       "    </tr>\n",
       "  </thead>\n",
       "  <tbody>\n",
       "    <tr>\n",
       "      <th>0</th>\n",
       "      <td>2021</td>\n",
       "      <td>277.278</td>\n",
       "    </tr>\n",
       "    <tr>\n",
       "      <th>1</th>\n",
       "      <td>2022</td>\n",
       "      <td>280.431</td>\n",
       "    </tr>\n",
       "    <tr>\n",
       "      <th>2</th>\n",
       "      <td>2023</td>\n",
       "      <td>283.584</td>\n",
       "    </tr>\n",
       "    <tr>\n",
       "      <th>3</th>\n",
       "      <td>2024</td>\n",
       "      <td>286.738</td>\n",
       "    </tr>\n",
       "    <tr>\n",
       "      <th>4</th>\n",
       "      <td>2025</td>\n",
       "      <td>289.891</td>\n",
       "    </tr>\n",
       "    <tr>\n",
       "      <th>5</th>\n",
       "      <td>2026</td>\n",
       "      <td>293.044</td>\n",
       "    </tr>\n",
       "    <tr>\n",
       "      <th>6</th>\n",
       "      <td>2027</td>\n",
       "      <td>296.198</td>\n",
       "    </tr>\n",
       "    <tr>\n",
       "      <th>7</th>\n",
       "      <td>2028</td>\n",
       "      <td>299.351</td>\n",
       "    </tr>\n",
       "    <tr>\n",
       "      <th>8</th>\n",
       "      <td>2029</td>\n",
       "      <td>302.504</td>\n",
       "    </tr>\n",
       "    <tr>\n",
       "      <th>9</th>\n",
       "      <td>2030</td>\n",
       "      <td>305.657</td>\n",
       "    </tr>\n",
       "  </tbody>\n",
       "</table>\n",
       "</div>"
      ],
      "text/plain": [
       "      0        0\n",
       "0  2021  277.278\n",
       "1  2022  280.431\n",
       "2  2023  283.584\n",
       "3  2024  286.738\n",
       "4  2025  289.891\n",
       "5  2026  293.044\n",
       "6  2027  296.198\n",
       "7  2028  299.351\n",
       "8  2029  302.504\n",
       "9  2030  305.657"
      ]
     },
     "execution_count": 24,
     "metadata": {},
     "output_type": "execute_result"
    }
   ],
   "source": [
    "# Menyimpan hasil ke file CSV\n",
    "test_years = np.array(test_X)\n",
    "year = pd.DataFrame(test_years)\n",
    "prediction = pd.DataFrame(Y_pred)\n",
    "result = pd.concat([year, prediction], axis=1)\n",
    "np.savetxt('result.csv', result, delimiter=',')\n",
    "result"
   ]
  },
  {
   "cell_type": "code",
   "execution_count": 28,
   "id": "7225ae18",
   "metadata": {},
   "outputs": [
    {
     "data": {
      "image/png": "[encoded data removed]",
      "text/plain": [
       "<Figure size 432x288 with 1 Axes>"
      ]
     },
     "metadata": {
      "needs_background": "light"
     },
     "output_type": "display_data"
    }
   ],
   "source": [
    "# Membuat visualisasi data penduduk Indonesia dari tahun ke tahun\n",
    "# Menggabungkan data training dan hasil prediksi\n",
    "absis = (np.concatenate([X_train, test_X]))\n",
    "ordinat = (np.concatenate([Y_train, Y_pred]))\n",
    "\n",
    "# Membuat plot total\n",
    "plt.scatter(absis, ordinat)\n",
    "\n",
    "# Membuat plot proyeksi\n",
    "plt.scatter(year, prediction)\n",
    "\n",
    "plt.xlabel(\"Tahun\")\n",
    "plt.ylabel(\"Populasi (juta)\")\n",
    "plt.title(\"Jumlah penduduk Indonesia\")\n",
    "plt.grid()\n",
    "plt.show()"
   ]
  },
  {
   "cell_type": "code",
   "execution_count": null,
   "id": "fdfd1e84",
   "metadata": {},
   "outputs": [],
   "source": []
  }
 ],
 "metadata": {
  "kernelspec": {
   "display_name": "Python 3",
   "language": "python",
   "name": "python3"
  },
  "language_info": {
   "codemirror_mode": {
    "name": "ipython",
    "version": 3
   },
   "file_extension": ".py",
   "mimetype": "text/x-python",
   "name": "python",
   "nbconvert_exporter": "python",
   "pygments_lexer": "ipython3",
   "version": "3.9.0"
  }
 },
 "nbformat": 4,
 "nbformat_minor": 5
}
