{
 "cells": [
  {
   "cell_type": "code",
   "execution_count": 2,
   "id": "25b43e42",
   "metadata": {},
   "outputs": [],
   "source": [
    "import pandas as pd\n",
    "import numpy as np\n",
    "import matplotlib.pyplot as plt\n",
    "from sklearn import datasets\n",
    "from sklearn.neighbors import KNeighborsClassifier\n",
    "from sklearn.metrics import accuracy_score\n",
    "from sklearn.metrics import classification_report"
   ]
  },
  {
   "cell_type": "code",
   "execution_count": 3,
   "id": "9867b90f",
   "metadata": {},
   "outputs": [
    {
     "name": "stdout",
     "output_type": "stream",
     "text": [
      "   Tahun  Populasi\n",
      "0   1960     87.75\n",
      "1   1961     90.10\n",
      "2   1962     92.52\n",
      "3   1963     95.02\n",
      "4   1964     97.60\n"
     ]
    }
   ],
   "source": [
    "# Mengambil data CSV\n",
    "dataset = pd.read_csv('./populasi.csv')\n",
    "X = dataset.iloc[:, :1]\n",
    "Y = dataset.iloc[:,1].values\n",
    "my_data = pd.DataFrame(dataset)\n",
    "print(dataset.head())"
   ]
  },
  {
   "cell_type": "code",
   "execution_count": 4,
   "id": "492c9849",
   "metadata": {},
   "outputs": [
    {
     "name": "stdout",
     "output_type": "stream",
     "text": [
      "Data test akan dilakukan untuk tahun: \n",
      "    Tahun\n",
      "26   1986\n",
      "35   1995\n",
      "60   2020\n",
      "28   1988\n",
      "11   1971\n",
      "2    1962\n",
      "34   1994\n",
      "59   2019\n",
      "40   2000\n",
      "22   1982\n",
      "4    1964\n",
      "10   1970\n",
      "30   1990\n",
      "41   2001\n",
      "33   1993\n",
      "43   2003\n",
      "49   2009\n",
      "7    1967\n",
      "14   1974\n"
     ]
    }
   ],
   "source": [
    "# Mempersiapkan data training\n",
    "X = dataset.iloc[:,:1]\n",
    "Y = dataset.iloc[:,1:2].values\n",
    "\n",
    "# Membagi data test\n",
    "from sklearn.model_selection import train_test_split\n",
    "X_train, X_test, Y_train, Y_test = train_test_split(X, Y, test_size=0.3, random_state=0)\n",
    "print('Data test akan dilakukan untuk tahun: ')\n",
    "print(X_test)"
   ]
  },
  {
   "cell_type": "code",
   "execution_count": 5,
   "id": "47261cec",
   "metadata": {},
   "outputs": [
    {
     "name": "stdout",
     "output_type": "stream",
     "text": [
      "Hasil prediksi: \n",
      "[[280.43117758]\n",
      " [283.58446008]\n",
      " [286.73774257]\n",
      " [289.89102507]\n",
      " [337.19026249]]\n"
     ]
    }
   ],
   "source": [
    "# Fitting pada data training\n",
    "from sklearn.linear_model import LinearRegression\n",
    "regressor = LinearRegression()\n",
    "regressor.fit(X_train, Y_train)\n",
    "\n",
    "# Mempersiapkan hasil\n",
    "temp = [2022, 2023, 2024, 2025, 2040]\n",
    "test_X = np.array(temp).reshape(-1,1)\n",
    "Y_pred = regressor.predict(test_X)\n",
    "print(\"Hasil prediksi: \")\n",
    "print(Y_pred)"
   ]
  },
  {
   "cell_type": "code",
   "execution_count": 9,
   "id": "7064bc83",
   "metadata": {},
   "outputs": [],
   "source": [
    "import tkinter as tk\n",
    "\n",
    "def prediction():\n",
    "    \"\"\"Memprediksi berdasarkan tahun\"\"\"\n",
    "    year = ent_tahun.get()\n",
    "    test_X = np.array(float(year)).reshape(-1, 1)\n",
    "    Y_pred = regressor.predict(test_X)\n",
    "    prediction = float(Y_pred)\n",
    "    lbl_result[\"text\"] = f\"{round(prediction, 3)} juta\"\n",
    "\n",
    "# Mengatur ukuran window\n",
    "window = tk.Tk()\n",
    "window.title(\"Prediksi Populasi\")\n",
    "window.resizable(width=False, height=False)\n",
    "\n",
    "# Membuat sebuah widget untuk sebuah input\n",
    "frm_entry = tk.Frame(master=window)\n",
    "ent_tahun = tk.Entry(master=frm_entry, width=10)\n",
    "lbl_tahun = tk.Label(master=frm_entry, text=\"Tahun:\")\n",
    "\n",
    "# Layout input form menggunakan grid()\n",
    "ent_tahun.grid(row=0, column=1, sticky=\"e\")\n",
    "lbl_tahun.grid(row=0, column=0, sticky=\"w\")\n",
    "\n",
    "# Membuat sebuah button yang nantinya digunakan untuk menampilkan hasil\n",
    "btn_convert = tk.Button(\n",
    "    master=window,\n",
    "    text=\"Prediksi Populasi = \",\n",
    "    command=prediction\n",
    ")\n",
    "lbl_result = tk.Label(master=window, text=\" Juta\")\n",
    "\n",
    "# Set up layout menggunakan grid()\n",
    "frm_entry.grid(row=0, column=1, padx=10)\n",
    "btn_convert.grid(row=0, column=2, padx=10)\n",
    "lbl_result.grid(row=0, column=3, padx=20)\n",
    "\n",
    "# Menjalankan GUI\n",
    "window.mainloop()"
   ]
  }
 ],
 "metadata": {
  "kernelspec": {
   "display_name": "Python 3",
   "language": "python",
   "name": "python3"
  },
  "language_info": {
   "codemirror_mode": {
    "name": "ipython",
    "version": 3
   },
   "file_extension": ".py",
   "mimetype": "text/x-python",
   "name": "python",
   "nbconvert_exporter": "python",
   "pygments_lexer": "ipython3",
   "version": "3.9.0"
  }
 },
 "nbformat": 4,
 "nbformat_minor": 5
}
